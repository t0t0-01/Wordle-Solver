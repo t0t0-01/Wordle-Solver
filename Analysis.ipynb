{
 "cells": [
  {
   "cell_type": "markdown",
   "id": "aed88c03",
   "metadata": {},
   "source": [
    "# Introduction"
   ]
  },
  {
   "cell_type": "markdown",
   "id": "547388f6",
   "metadata": {},
   "source": [
    "## 1. Getting started"
   ]
  },
  {
   "cell_type": "code",
   "execution_count": 10,
   "id": "d07a01b1",
   "metadata": {},
   "outputs": [],
   "source": [
    "import string\n",
    "import matplotlib.pyplot as plt\n",
    "import numpy as np"
   ]
  },
  {
   "cell_type": "code",
   "execution_count": 3,
   "id": "1a7f7a8f",
   "metadata": {},
   "outputs": [],
   "source": [
    "def load_words():\n",
    "    f = open(\"C:/Users/Anton/Desktop/used.txt\", \"r\")\n",
    "    words = {e.strip().lower() for e in f.readlines()}\n",
    "    f.close()\n",
    "    return words"
   ]
  },
  {
   "cell_type": "code",
   "execution_count": 4,
   "id": "8d2f0cc1",
   "metadata": {},
   "outputs": [],
   "source": [
    "\n",
    "def filter_words(words, incorrect, false_loc, correct_loc, duplicates):\n",
    "    \"\"\"\n",
    "    \n",
    "\n",
    "    Parameters\n",
    "    ----------\n",
    "    words : TYPE\n",
    "        DESCRIPTION.\n",
    "    incorrect : TYPE\n",
    "        DESCRIPTION.\n",
    "    false_loc : TYPE\n",
    "        DESCRIPTION.\n",
    "    correct_loc : TYPE\n",
    "        DESCRIPTION.\n",
    "    duplicates : TYPE\n",
    "        DESCRIPTION.\n",
    "\n",
    "    Returns\n",
    "    -------\n",
    "    updated_words : TYPE\n",
    "        DESCRIPTION.\n",
    "\n",
    "    \"\"\"\n",
    "    updated_words = words.copy()\n",
    "    for word in words:\n",
    "        removed = False\n",
    "        for wrong_letter in incorrect:\n",
    "            if wrong_letter in word:\n",
    "                updated_words.remove(word)\n",
    "                removed = True\n",
    "                break\n",
    "                \n",
    "                \n",
    "        if not removed:\n",
    "            for letter, pos in false_loc:\n",
    "                    if word[pos] == letter or letter not in word:\n",
    "                        updated_words.remove(word)\n",
    "                        removed = True\n",
    "                        break\n",
    "                    \n",
    "                \n",
    "                        \n",
    "            if not removed:\n",
    "                for letter, pos in correct_loc:\n",
    "                    if word[pos] != letter:\n",
    "                        updated_words.remove(word)\n",
    "                        removed = True\n",
    "                        break\n",
    "            \n",
    "            if not removed:\n",
    "                    for letter in duplicates:\n",
    "                        if letter[1] != word.count(letter[0]):\n",
    "                            updated_words.remove(word)\n",
    "                            removed = True\n",
    "                            break\n",
    "\n",
    "        \n",
    "                    \n",
    "    return updated_words"
   ]
  },
  {
   "cell_type": "markdown",
   "id": "4bd54740",
   "metadata": {},
   "source": [
    "## 2. Probability distributions"
   ]
  },
  {
   "cell_type": "code",
   "execution_count": 5,
   "id": "d18a21ab",
   "metadata": {},
   "outputs": [],
   "source": [
    "def generate_probabilities(words):\n",
    "    \"\"\"\n",
    "    Takes as input a list of words, and outputs a probability distribution for\n",
    "    the words based on the frequency of occurence of the letters\n",
    "    \n",
    "\n",
    "    Parameters\n",
    "    ----------\n",
    "    words : list\n",
    "        list of words to generate a probability distribution from.\n",
    "\n",
    "    Returns\n",
    "    -------\n",
    "    word_probs : dict\n",
    "        {'word': (prob, nb_of_unique_letters)}\n",
    "\n",
    "    \"\"\"\n",
    "    \n",
    "    \n",
    "    letters = {e: 0 for e in list(string.ascii_lowercase)}\n",
    "    for word in words:\n",
    "        for char in word:\n",
    "            letters[char] += 1\n",
    "            \n",
    "            \n",
    "    letter_probs = {e: letters[e] / len(words) for e in letters}\n",
    "    \n",
    "    word_probs = {\"test\": (0,0)}\n",
    "    m = \"test\"\n",
    "    for word in words:\n",
    "        word_prob = 1\n",
    "        for char in word:\n",
    "            word_prob *= letter_probs[char]\n",
    "        word_probs[word] = (word_prob, len(set(word)))\n",
    "        if word_prob > word_probs[m][0]:\n",
    "            m = word\n",
    "\n",
    "    updated = {}\n",
    "    for e in word_probs:\n",
    "        if word_probs[e][1] == 5:\n",
    "            updated[e] = word_probs[e]\n",
    "\n",
    "    j = \"test\"\n",
    "    for e in updated:\n",
    "        if word_probs[e][0] > word_probs[j][0]:\n",
    "            j = e\n",
    "        \n",
    "    return word_probs"
   ]
  },
  {
   "cell_type": "markdown",
   "id": "5e864bf6",
   "metadata": {},
   "source": [
    "### a. Max occurence, no uniqueness"
   ]
  },
  {
   "cell_type": "code",
   "execution_count": 6,
   "id": "2c68526d",
   "metadata": {},
   "outputs": [],
   "source": [
    "def get_max_probability(pd, words):\n",
    "    \"\"\"\n",
    "    Takes a list of words and probability distribution, and outputs the word\n",
    "    with the highest probability of occurence\n",
    "\n",
    "    Parameters\n",
    "    ----------\n",
    "    pd : dict\n",
    "        Probability distribution of words\n",
    "    words : list\n",
    "        List of words\n",
    "\n",
    "    Returns\n",
    "    -------\n",
    "    max_prob : float\n",
    "        The highest probability of occurence\n",
    "    max_word : string\n",
    "        The word that has the highes probability of occurence\n",
    "\n",
    "    \"\"\"\n",
    "    \n",
    "    max_prob = 0\n",
    "    max_word = \"\"\n",
    "    for w in words:\n",
    "        if pd[w][0] > max_prob:\n",
    "            max_prob = pd[w][0]\n",
    "            max_word = w\n",
    "            \n",
    "    return max_word, max_prob"
   ]
  },
  {
   "cell_type": "markdown",
   "id": "bc55d41e",
   "metadata": {},
   "source": [
    "#### Automation code\n"
   ]
  },
  {
   "cell_type": "code",
   "execution_count": 7,
   "id": "481e05f5",
   "metadata": {},
   "outputs": [],
   "source": [
    "def get_result(guess, correct_word):\n",
    "    incorrect = []\n",
    "    false_loc = []\n",
    "    correct_loc = []\n",
    "    duplicates = []\n",
    "    \n",
    "    to_be_checked = {}\n",
    "    \n",
    "    for pos, char in enumerate(guess):\n",
    "        if char not in correct_word:\n",
    "            incorrect.append(char)\n",
    "            \n",
    "        elif guess.count(char) == correct_word.count(char):\n",
    "            if correct_word[pos] == char:\n",
    "                correct_loc.append((char, pos))\n",
    "            else:\n",
    "                false_loc.append((char, pos))\n",
    "        else:\n",
    "            if char not in to_be_checked:\n",
    "                to_be_checked[char] = [pos]\n",
    "            else:\n",
    "                to_be_checked[char].append(pos)\n",
    "            \n",
    "            \n",
    "            \n",
    "\n",
    "    for char in to_be_checked:\n",
    "        correct_count = 0\n",
    "        left = []\n",
    "        has_duplicates = False\n",
    "        for pos in to_be_checked[char]:\n",
    "            \n",
    "            if correct_word[pos] == char:\n",
    "                correct_loc.append((char, pos))\n",
    "                correct_count += 1\n",
    "            else:\n",
    "                left.append(pos)\n",
    "\n",
    "        for other in left:\n",
    "            if correct_count != correct_word.count(char):\n",
    "                false_loc.append((char, other))\n",
    "                correct_count += 1\n",
    "            else:\n",
    "                has_duplicates = True\n",
    "                \n",
    "            \n",
    "        if has_duplicates:\n",
    "           duplicates.append((char, correct_count))\n",
    "        \n",
    "\n",
    "\n",
    "    return incorrect, false_loc, correct_loc, duplicates"
   ]
  },
  {
   "cell_type": "markdown",
   "id": "0d0a8a80",
   "metadata": {},
   "source": [
    "Now, we need a function to iterate through the different tries to get one word."
   ]
  },
  {
   "cell_type": "code",
   "execution_count": 13,
   "id": "8eddfa0c",
   "metadata": {},
   "outputs": [],
   "source": [
    "def run_iters(answer, pd_function, threshold=6):\n",
    "    probs = generate_probabilities(load_words())\n",
    "    \n",
    "    ##add the first one to the iters list\n",
    "    iters = []\n",
    "    word = \"alert\"\n",
    "    set1 = load_words()\n",
    "    prob = 1\n",
    "    prev_word = \"\"\n",
    "    \n",
    "\n",
    "\n",
    "    while len(iters) <= 5 and prev_word != word:\n",
    "        iters.append((word, prob))\n",
    "        prev_word = word\n",
    "        set1 = filter_words(set1, *get_result(word, answer))\n",
    "        \n",
    "        if pd_function == \"max\":\n",
    "            word, prob = get_max_probability(probs, set1)\n",
    "        elif pd_function == \"max_unique\":\n",
    "            if len(iters) < threshold:\n",
    "                word, prob = get_max_probability_uniqueness(probs, set1)\n",
    "            else:\n",
    "                word, prob = get_max_probability(probs, set1)          \n",
    "        \n",
    "    if prev_word != word:\n",
    "        iters.append(\"WRONG\")\n",
    "        iters.append(answer)\n",
    "        iters.append(answer in pd_function)\n",
    "\n",
    "\n",
    "    return iters"
   ]
  },
  {
   "cell_type": "markdown",
   "id": "275da92b",
   "metadata": {},
   "source": [
    "#### Simulation"
   ]
  },
  {
   "cell_type": "code",
   "execution_count": 11,
   "id": "4765e367",
   "metadata": {},
   "outputs": [
    {
     "name": "stdout",
     "output_type": "stream",
     "text": [
      "4.330879168471199 % done\n",
      "8.661758336942398 % done\n",
      "12.9926375054136 % done\n",
      "17.323516673884797 % done\n",
      "21.654395842355996 % done\n",
      "25.9852750108272 % done\n",
      "30.316154179298398 % done\n",
      "34.64703334776959 % done\n",
      "34.64703334776959 % done\n",
      "38.9779125162408 % done\n",
      "43.30879168471199 % done\n",
      "47.6396708531832 % done\n",
      "51.9705500216544 % done\n",
      "56.301429190125596 % done\n",
      "60.632308358596795 % done\n",
      "64.96318752706799 % done\n",
      "69.29406669553919 % done\n",
      "73.6249458640104 % done\n",
      "77.9558250324816 % done\n",
      "82.2867042009528 % done\n",
      "86.61758336942398 % done\n",
      "90.9484625378952 % done\n",
      "95.2793417063664 % done\n"
     ]
    }
   ],
   "source": [
    "s = []\n",
    "count = 0\n",
    "without_wrong = []\n",
    "overall = []\n",
    "wrong = 0\n",
    "words = load_words()\n",
    "wrongs = []\n",
    "\n",
    "for word in words:\n",
    "    count += 1\n",
    "    \n",
    "    if count % 100 == 0:\n",
    "        print(count / len(words) * 100, \"% done\")\n",
    "        \n",
    "    l = run_iters(word, \"max\")\n",
    "    if \"WRONG\" in l:\n",
    "        wrong += 1\n",
    "        count -= 1\n",
    "        wrongs.append(l)\n",
    "    else:\n",
    "        without_wrong.append(len(l))\n",
    "    \n",
    "    s.append(len(l))\n",
    "    \n",
    "    overall.append(l)"
   ]
  },
  {
   "cell_type": "markdown",
   "id": "cbfc4646",
   "metadata": {},
   "source": [
    "Visualize:"
   ]
  },
  {
   "cell_type": "code",
   "execution_count": 12,
   "id": "92580dc5",
   "metadata": {},
   "outputs": [
    {
     "data": {
      "image/png": "[encoded data removed]",
      "text/plain": [
       "<Figure size 432x288 with 1 Axes>"
      ]
     },
     "metadata": {
      "needs_background": "light"
     },
     "output_type": "display_data"
    },
    {
     "data": {
      "image/png": "[encoded data removed]",
      "text/plain": [
       "<Figure size 432x288 with 1 Axes>"
      ]
     },
     "metadata": {
      "needs_background": "light"
     },
     "output_type": "display_data"
    },
    {
     "name": "stdout",
     "output_type": "stream",
     "text": [
      "Min:  1\n",
      "Max:  8\n",
      "Mean:  3.962754439151148\n",
      "Std:  1.1312324368717666\n",
      "Median:  4.0\n"
     ]
    }
   ],
   "source": [
    "plt.bar(list(set(s)), [s.count(e) for e in list(set(s))])\n",
    "plt.show()\n",
    "\n",
    "plt.boxplot(without_wrong)\n",
    "plt.show()\n",
    "\n",
    "converted = np.array(s)\n",
    "    \n",
    "print(\"Min: \", np.min(converted))\n",
    "print(\"Max: \", np.max(converted))\n",
    "print(\"Mean: \", np.mean(converted))\n",
    "print(\"Std: \", np.std(converted))\n",
    "print(\"Median: \", np.median(converted))"
   ]
  },
  {
   "cell_type": "markdown",
   "id": "e240919f",
   "metadata": {},
   "source": [
    "### b. Uniqueness"
   ]
  },
  {
   "cell_type": "code",
   "execution_count": 14,
   "id": "f2d60963",
   "metadata": {},
   "outputs": [],
   "source": [
    "def get_max_probability_uniqueness(pd, words):\n",
    "    \"\"\"\n",
    "    Takes a list of words and probability distribution, and outputs the word\n",
    "    with the highest probability of occurence that also has highest uniqye\n",
    "\n",
    "    Parameters\n",
    "    ----------\n",
    "    pd : dict\n",
    "        Probability distribution of words\n",
    "    words : list\n",
    "        List of words\n",
    "\n",
    "    Returns\n",
    "    -------\n",
    "    max_prob : float\n",
    "        The highest probability of occurence\n",
    "    max_word : string\n",
    "        The word that has the highes probability of occurence\n",
    "    \"\"\"\n",
    "\n",
    "    max_unique = max([pd[e][1] for e in pd if e in words])\n",
    "    subset = {e: pd[e] for e in pd if pd[e][1] == max_unique}\n",
    "    \n",
    "    max_prob = 0\n",
    "    max_word = \"\"\n",
    "    for w in words:\n",
    "        if w in subset and subset[w][0] > max_prob:\n",
    "            max_prob = subset[w][0]\n",
    "            max_word = w\n",
    "            \n",
    "    return max_word, max_prob"
   ]
  },
  {
   "cell_type": "code",
   "execution_count": 24,
   "id": "cced0f06",
   "metadata": {},
   "outputs": [
    {
     "name": "stdout",
     "output_type": "stream",
     "text": [
      "Nb of iterations = 1:\n",
      "\n",
      "21.654395842355996 % done\n",
      "43.30879168471199 % done\n",
      "64.96318752706799 % done\n",
      "86.61758336942398 % done\n"
     ]
    },
    {
     "data": {
      "image/png": "[encoded data removed]",
      "text/plain": [
       "<Figure size 432x288 with 1 Axes>"
      ]
     },
     "metadata": {
      "needs_background": "light"
     },
     "output_type": "display_data"
    },
    {
     "data": {
      "image/png": "[encoded data removed]",
      "text/plain": [
       "<Figure size 432x288 with 1 Axes>"
      ]
     },
     "metadata": {
      "needs_background": "light"
     },
     "output_type": "display_data"
    },
    {
     "name": "stdout",
     "output_type": "stream",
     "text": [
      "Min:  1\n",
      "Max:  8\n",
      "Mean:  3.962754439151148\n",
      "Std:  1.1312324368717666\n",
      "Median:  4.0 \n",
      "\n",
      "\n",
      "Nb of iterations = 2:\n",
      "\n",
      "21.654395842355996 % done\n",
      "43.30879168471199 % done\n",
      "64.96318752706799 % done\n",
      "86.61758336942398 % done\n"
     ]
    },
    {
     "data": {
      "image/png": "[encoded data removed]",
      "text/plain": [
       "<Figure size 432x288 with 1 Axes>"
      ]
     },
     "metadata": {
      "needs_background": "light"
     },
     "output_type": "display_data"
    },
    {
     "data": {
      "image/png": "[encoded data removed]",
      "text/plain": [
       "<Figure size 432x288 with 1 Axes>"
      ]
     },
     "metadata": {
      "needs_background": "light"
     },
     "output_type": "display_data"
    },
    {
     "name": "stdout",
     "output_type": "stream",
     "text": [
      "Min:  1\n",
      "Max:  8\n",
      "Mean:  3.8284971849285405\n",
      "Std:  1.0488470200938997\n",
      "Median:  4.0 \n",
      "\n",
      "\n",
      "Nb of iterations = 3:\n",
      "\n",
      "21.654395842355996 % done\n",
      "43.30879168471199 % done\n",
      "64.96318752706799 % done\n",
      "86.61758336942398 % done\n",
      "86.61758336942398 % done\n"
     ]
    },
    {
     "data": {
      "image/png": "[encoded data removed]",
      "text/plain": [
       "<Figure size 432x288 with 1 Axes>"
      ]
     },
     "metadata": {
      "needs_background": "light"
     },
     "output_type": "display_data"
    },
    {
     "data": {
      "image/png": "[encoded data removed]",
      "text/plain": [
       "<Figure size 432x288 with 1 Axes>"
      ]
     },
     "metadata": {
      "needs_background": "light"
     },
     "output_type": "display_data"
    },
    {
     "name": "stdout",
     "output_type": "stream",
     "text": [
      "Min:  1\n",
      "Max:  8\n",
      "Mean:  3.78345604157644\n",
      "Std:  0.9875202265419472\n",
      "Median:  4.0 \n",
      "\n",
      "\n",
      "Nb of iterations = 4:\n",
      "\n",
      "21.654395842355996 % done\n",
      "43.30879168471199 % done\n",
      "64.96318752706799 % done\n",
      "86.61758336942398 % done\n"
     ]
    },
    {
     "data": {
      "image/png": "[encoded data removed]",
      "text/plain": [
       "<Figure size 432x288 with 1 Axes>"
      ]
     },
     "metadata": {
      "needs_background": "light"
     },
     "output_type": "display_data"
    },
    {
     "data": {
      "image/png": "[encoded data removed]",
      "text/plain": [
       "<Figure size 432x288 with 1 Axes>"
      ]
     },
     "metadata": {
      "needs_background": "light"
     },
     "output_type": "display_data"
    },
    {
     "name": "stdout",
     "output_type": "stream",
     "text": [
      "Min:  1\n",
      "Max:  8\n",
      "Mean:  3.7812906019922043\n",
      "Std:  0.980660049861166\n",
      "Median:  4.0 \n",
      "\n",
      "\n",
      "Nb of iterations = 5:\n",
      "\n",
      "21.654395842355996 % done\n",
      "43.30879168471199 % done\n",
      "64.96318752706799 % done\n",
      "86.61758336942398 % done\n"
     ]
    },
    {
     "data": {
      "image/png": "[encoded data removed]",
      "text/plain": [
       "<Figure size 432x288 with 1 Axes>"
      ]
     },
     "metadata": {
      "needs_background": "light"
     },
     "output_type": "display_data"
    },
    {
     "data": {
      "image/png": "[encoded data removed]",
      "text/plain": [
       "<Figure size 432x288 with 1 Axes>"
      ]
     },
     "metadata": {
      "needs_background": "light"
     },
     "output_type": "display_data"
    },
    {
     "name": "stdout",
     "output_type": "stream",
     "text": [
      "Min:  1\n",
      "Max:  8\n",
      "Mean:  3.782156777825899\n",
      "Std:  0.9834985102813361\n",
      "Median:  4.0 \n",
      "\n",
      "\n",
      "Nb of iterations = 6:\n",
      "\n",
      "21.654395842355996 % done\n",
      "43.30879168471199 % done\n",
      "64.96318752706799 % done\n",
      "86.61758336942398 % done\n",
      "86.61758336942398 % done\n"
     ]
    },
    {
     "data": {
      "image/png": "[encoded data removed]",
      "text/plain": [
       "<Figure size 432x288 with 1 Axes>"
      ]
     },
     "metadata": {
      "needs_background": "light"
     },
     "output_type": "display_data"
    },
    {
     "data": {
      "image/png": "[encoded data removed]",
      "text/plain": [
       "<Figure size 432x288 with 1 Axes>"
      ]
     },
     "metadata": {
      "needs_background": "light"
     },
     "output_type": "display_data"
    },
    {
     "name": "stdout",
     "output_type": "stream",
     "text": [
      "Min:  1\n",
      "Max:  8\n",
      "Mean:  3.782156777825899\n",
      "Std:  0.9834985102813361\n",
      "Median:  4.0 \n",
      "\n",
      "\n"
     ]
    }
   ],
   "source": [
    "for i in range(1, 7):\n",
    "    print(f\"Nb of iterations = {i}:\\n\")\n",
    "    \n",
    "    s = []\n",
    "    count = 0\n",
    "    without_wrong = []\n",
    "    overall = []\n",
    "    wrong = 0\n",
    "    words = load_words()\n",
    "    wrongs = []\n",
    "\n",
    "    for word in words:\n",
    "        count += 1\n",
    "\n",
    "        if count % 500 == 0:\n",
    "            print(count / len(words) * 100, \"% done\")\n",
    "\n",
    "\n",
    "        l = run_iters(word, \"max_unique\", i)\n",
    "        if \"WRONG\" in l:\n",
    "            wrong += 1\n",
    "            count -= 1\n",
    "            wrongs.append(l)\n",
    "        else:\n",
    "            without_wrong.append(len(l))\n",
    "\n",
    "        s.append(len(l))\n",
    "\n",
    "        overall.append(l)\n",
    "\n",
    "    plt.bar(list(set(s)), [s.count(e) for e in list(set(s))])\n",
    "    plt.title(f\"Statistics with max uniqueness applied on {i} iterations\")\n",
    "    plt.show()\n",
    "\n",
    "    plt.boxplot(without_wrong)\n",
    "    plt.title(f\"Statistics with max uniqueness applied on {i} iterations\")\n",
    "    plt.show()\n",
    "\n",
    "    converted = np.array(s)\n",
    "\n",
    "    print(\"Min: \", np.min(converted))\n",
    "    print(\"Max: \", np.max(converted))\n",
    "    print(\"Mean: \", np.mean(converted))\n",
    "    print(\"Std: \", np.std(converted))\n",
    "    print(\"Median: \", np.median(converted), \"\\n\\n\")\n",
    "    "
   ]
  },
  {
   "cell_type": "markdown",
   "id": "b259fe14",
   "metadata": {},
   "source": [
    "### c. Entropy Approach:"
   ]
  },
  {
   "cell_type": "code",
   "execution_count": null,
   "id": "3068a13d",
   "metadata": {},
   "outputs": [],
   "source": []
  }
 ],
 "metadata": {
  "kernelspec": {
   "display_name": "Python 3",
   "language": "python",
   "name": "python3"
  },
  "language_info": {
   "codemirror_mode": {
    "name": "ipython",
    "version": 3
   },
   "file_extension": ".py",
   "mimetype": "text/x-python",
   "name": "python",
   "nbconvert_exporter": "python",
   "pygments_lexer": "ipython3",
   "version": "3.8.10"
  }
 },
 "nbformat": 4,
 "nbformat_minor": 5
}
